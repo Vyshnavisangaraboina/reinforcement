{
  "nbformat": 4,
  "nbformat_minor": 0,
  "metadata": {
    "colab": {
      "provenance": [],
      "authorship_tag": "ABX9TyM210fUSf7cVa2DLMKYGY+X",
      "include_colab_link": true
    },
    "kernelspec": {
      "name": "python3",
      "display_name": "Python 3"
    },
    "language_info": {
      "name": "python"
    }
  },
  "cells": [
    {
      "cell_type": "markdown",
      "metadata": {
        "id": "view-in-github",
        "colab_type": "text"
      },
      "source": [
        "<a href=\"https://colab.research.google.com/github/Vyshnavisangaraboina/reinforcement/blob/main/Lab_Assignment_07.ipynb\" target=\"_parent\"><img src=\"https://colab.research.google.com/assets/colab-badge.svg\" alt=\"Open In Colab\"/></a>"
      ]
    },
    {
      "cell_type": "code",
      "execution_count": 1,
      "metadata": {
        "colab": {
          "base_uri": "https://localhost:8080/"
        },
        "id": "-z90NCUMHilf",
        "outputId": "8a599ef5-bf09-4417-9deb-df1ba2edc1bf"
      },
      "outputs": [
        {
          "output_type": "stream",
          "name": "stdout",
          "text": [
            "[1, 0, 1, 1, 1, 1, 1, 1, 1, 1]\n"
          ]
        }
      ],
      "source": [
        "import numpy as np\n",
        "class SimpleWalkEnv:\n",
        "    def __init__(self):\n",
        "        self.reset()\n",
        "    def reset(self):\n",
        "        self.pos = 0\n",
        "        return self.pos\n",
        "    def step(self, action):\n",
        "        self.pos += 2 * action - 1\n",
        "        reward = 1 if self.pos == 3 else 0\n",
        "        done = self.pos == 3 or abs(self.pos) > 5\n",
        "        return self.pos, reward, done, {}\n",
        "class Policy:\n",
        "    def __init__(self, S, A):\n",
        "        self.prefs = np.zeros((S, A))\n",
        "    def get_action(self, state):\n",
        "        exps = np.exp(self.prefs[state])\n",
        "        probs = exps / np.sum(exps)\n",
        "        action = np.random.choice(len(probs), p=probs)\n",
        "        return action, probs[action]\n",
        "    def update(self, state, action, G, alpha=0.01):\n",
        "        exps = np.exp(self.prefs[state])\n",
        "        probs = exps / np.sum(exps)\n",
        "        grad = (1 - probs[action])\n",
        "        self.prefs[state, action] += alpha * G * grad\n",
        "num_episodes = 200\n",
        "policy = Policy(S=11, A=2)\n",
        "all_rewards = []\n",
        "env = SimpleWalkEnv()\n",
        "for _ in range(num_episodes):\n",
        "    state = env.reset() + 5\n",
        "    rewards = []\n",
        "    traj = []\n",
        "    for t in range(10):\n",
        "        action, _ = policy.get_action(state)\n",
        "        next_state, reward, done, _ = env.step(action)\n",
        "        traj.append((state, action))\n",
        "        rewards.append(reward)\n",
        "        state = next_state + 5\n",
        "        if done:\n",
        "            break\n",
        "    returns = []\n",
        "    G = 0\n",
        "    for r in reversed(rewards):\n",
        "        G = r + 0.99 * G\n",
        "        returns.insert(0, G)\n",
        "    for i, (s, a) in enumerate(traj):\n",
        "        policy.update(s, a, returns[i], alpha=0.1)\n",
        "    all_rewards.append(sum(rewards))\n",
        "print(all_rewards[-10:])"
      ]
    }
  ]
}